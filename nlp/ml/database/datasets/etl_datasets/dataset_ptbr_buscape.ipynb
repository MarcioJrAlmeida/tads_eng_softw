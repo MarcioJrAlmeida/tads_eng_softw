{
 "cells": [
  {
   "cell_type": "code",
   "execution_count": 2,
   "id": "4d835fc5",
   "metadata": {},
   "outputs": [],
   "source": [
    "import numpy as np\n",
    "import pandas as pd\n",
    "import os\n",
    "from pathlib import Path\n",
    "import sys\n",
    "\n",
    "\n",
    "# Caminho absoluto até a raiz do projeto (pasta que contém 'nlp')\n",
    "ROOT_DIR = os.path.abspath('C:/Users/marci/OneDrive/Documentos/IFPE - (ADS)/aulas/IFPE_TADS/Semestre II/engenharia_softwares/tads_eng_softw')\n",
    "sys.path.insert(0, ROOT_DIR)\n",
    "base_path = Path('C:/Users/marci/OneDrive/Documentos/IFPE - (ADS)/aulas/IFPE_TADS/Semestre II/engenharia_softwares/tads_eng_softw/nlp/ml/database/datasets/bases_geradas')\n",
    "# Agora sim, importa o módulo\n",
    "from nlp.config.connection import get_connection_ml\n",
    "\n",
    "\n",
    "\n",
    "pd.set_option('display.max_columns', None)   # Mostra todas as colunas\n",
    "pd.set_option('display.width', None)         # Não quebra linha automaticamente\n",
    "pd.set_option('display.max_colwidth', None)  # Mostra todo o conteúdo das células"
   ]
  },
  {
   "cell_type": "markdown",
   "id": "e0657b75",
   "metadata": {},
   "source": [
    "## Listar os arquivos CSV na Pasta"
   ]
  },
  {
   "cell_type": "code",
   "execution_count": 3,
   "id": "2c4fe4f3",
   "metadata": {},
   "outputs": [
    {
     "name": "stdout",
     "output_type": "stream",
     "text": [
      "Arquivo: C:\\Users\\marci\\OneDrive\\Documentos\\IFPE - (ADS)\\aulas\\IFPE_TADS\\Semestre II\\engenharia_softwares\\tads_eng_softw\\nlp\\ml\\database\\datasets\\bases_geradas\\avaliacoes_ironicas_60k.csv\n",
      "Arquivo: C:\\Users\\marci\\OneDrive\\Documentos\\IFPE - (ADS)\\aulas\\IFPE_TADS\\Semestre II\\engenharia_softwares\\tads_eng_softw\\nlp\\ml\\database\\datasets\\bases_geradas\\avaliacoes_negativas_60k.csv\n",
      "Arquivo: C:\\Users\\marci\\OneDrive\\Documentos\\IFPE - (ADS)\\aulas\\IFPE_TADS\\Semestre II\\engenharia_softwares\\tads_eng_softw\\nlp\\ml\\database\\datasets\\bases_geradas\\avaliacoes_neutras_60k.csv\n"
     ]
    }
   ],
   "source": [
    "csv_files = list(base_path.rglob(\"*.csv\"))\n",
    "\n",
    "if not csv_files:\n",
    "    print(\"Nenhum arquivo CSV encontrado.\")\n",
    "else:\n",
    "    for csv_file in csv_files:\n",
    "        print(f\"Arquivo: {csv_file}\")\n",
    "        # df = pd.read_csv(csv_file)\n",
    "        # display(df.head())  "
   ]
  },
  {
   "cell_type": "markdown",
   "id": "c6d0c930",
   "metadata": {},
   "source": [
    "### Arquivo Dados Classificados por notas BuscaPe\n",
    "\n",
    "#### Base de Dados do Kaggle\n",
    ". https://www.kaggle.com/datasets/fredericods/ptbr-sentiment-analysis-datasets?utm_source=chatgpt.com&select=buscape.csv"
   ]
  },
  {
   "cell_type": "code",
   "execution_count": 12,
   "id": "a38bd32a",
   "metadata": {},
   "outputs": [
    {
     "data": {
      "text/html": [
       "<div>\n",
       "<style scoped>\n",
       "    .dataframe tbody tr th:only-of-type {\n",
       "        vertical-align: middle;\n",
       "    }\n",
       "\n",
       "    .dataframe tbody tr th {\n",
       "        vertical-align: top;\n",
       "    }\n",
       "\n",
       "    .dataframe thead th {\n",
       "        text-align: right;\n",
       "    }\n",
       "</style>\n",
       "<table border=\"1\" class=\"dataframe\">\n",
       "  <thead>\n",
       "    <tr style=\"text-align: right;\">\n",
       "      <th></th>\n",
       "      <th>contexto_pergunta</th>\n",
       "      <th>conteudo_resposta</th>\n",
       "      <th>classificada_como_sentimento</th>\n",
       "    </tr>\n",
       "  </thead>\n",
       "  <tbody>\n",
       "    <tr>\n",
       "      <th>0</th>\n",
       "      <td>Como você avalia o produto que recebeu?</td>\n",
       "      <td>Sem problemas, tudo ok.</td>\n",
       "      <td>neutro</td>\n",
       "    </tr>\n",
       "    <tr>\n",
       "      <th>1</th>\n",
       "      <td>Como você avalia o produto que recebeu?</td>\n",
       "      <td>Funciona normalmente, como esperado.</td>\n",
       "      <td>neutro</td>\n",
       "    </tr>\n",
       "    <tr>\n",
       "      <th>2</th>\n",
       "      <td>Como você avalia o produto que recebeu?</td>\n",
       "      <td>Parece funcional, mas nada demais.</td>\n",
       "      <td>neutro</td>\n",
       "    </tr>\n",
       "    <tr>\n",
       "      <th>3</th>\n",
       "      <td>Como você avalia o produto que recebeu?</td>\n",
       "      <td>Recebi o produto conforme o anunciado.</td>\n",
       "      <td>neutro</td>\n",
       "    </tr>\n",
       "    <tr>\n",
       "      <th>4</th>\n",
       "      <td>Como você avalia o produto que recebeu?</td>\n",
       "      <td>Sem problemas, tudo ok.</td>\n",
       "      <td>neutro</td>\n",
       "    </tr>\n",
       "  </tbody>\n",
       "</table>\n",
       "</div>"
      ],
      "text/plain": [
       "                         contexto_pergunta  \\\n",
       "0  Como você avalia o produto que recebeu?   \n",
       "1  Como você avalia o produto que recebeu?   \n",
       "2  Como você avalia o produto que recebeu?   \n",
       "3  Como você avalia o produto que recebeu?   \n",
       "4  Como você avalia o produto que recebeu?   \n",
       "\n",
       "                        conteudo_resposta classificada_como_sentimento  \n",
       "0                 Sem problemas, tudo ok.                       neutro  \n",
       "1    Funciona normalmente, como esperado.                       neutro  \n",
       "2      Parece funcional, mas nada demais.                       neutro  \n",
       "3  Recebi o produto conforme o anunciado.                       neutro  \n",
       "4                 Sem problemas, tudo ok.                       neutro  "
      ]
     },
     "execution_count": 12,
     "metadata": {},
     "output_type": "execute_result"
    }
   ],
   "source": [
    "base_dados = next(Path(base_path).rglob(\"avaliacoes_neutras_60k.csv\"))\n",
    "\n",
    "df = pd.read_csv(base_dados)\n",
    "df.head(5)"
   ]
  },
  {
   "cell_type": "markdown",
   "id": "86b98cd1",
   "metadata": {},
   "source": [
    "### Transformação na Tabela"
   ]
  },
  {
   "cell_type": "code",
   "execution_count": 13,
   "id": "3c34a8a1",
   "metadata": {},
   "outputs": [],
   "source": [
    "## Ordenar as colunas\n",
    "ordem_colunas = [\n",
    "    'contexto_pergunta', \n",
    "    'conteudo_resposta',\n",
    "    'classificada_como_sentimento',\n",
    "]\n",
    "\n",
    "df_transformado = df[ordem_colunas]"
   ]
  },
  {
   "cell_type": "code",
   "execution_count": 14,
   "id": "db5ba838",
   "metadata": {},
   "outputs": [
    {
     "data": {
      "text/html": [
       "<div>\n",
       "<style scoped>\n",
       "    .dataframe tbody tr th:only-of-type {\n",
       "        vertical-align: middle;\n",
       "    }\n",
       "\n",
       "    .dataframe tbody tr th {\n",
       "        vertical-align: top;\n",
       "    }\n",
       "\n",
       "    .dataframe thead th {\n",
       "        text-align: right;\n",
       "    }\n",
       "</style>\n",
       "<table border=\"1\" class=\"dataframe\">\n",
       "  <thead>\n",
       "    <tr style=\"text-align: right;\">\n",
       "      <th></th>\n",
       "      <th>contexto_pergunta</th>\n",
       "      <th>conteudo_resposta</th>\n",
       "      <th>classificada_como_sentimento</th>\n",
       "    </tr>\n",
       "  </thead>\n",
       "  <tbody>\n",
       "    <tr>\n",
       "      <th>0</th>\n",
       "      <td>Como você avalia o produto que recebeu?</td>\n",
       "      <td>Sem problemas, tudo ok.</td>\n",
       "      <td>neutro</td>\n",
       "    </tr>\n",
       "    <tr>\n",
       "      <th>1</th>\n",
       "      <td>Como você avalia o produto que recebeu?</td>\n",
       "      <td>Funciona normalmente, como esperado.</td>\n",
       "      <td>neutro</td>\n",
       "    </tr>\n",
       "    <tr>\n",
       "      <th>2</th>\n",
       "      <td>Como você avalia o produto que recebeu?</td>\n",
       "      <td>Parece funcional, mas nada demais.</td>\n",
       "      <td>neutro</td>\n",
       "    </tr>\n",
       "    <tr>\n",
       "      <th>3</th>\n",
       "      <td>Como você avalia o produto que recebeu?</td>\n",
       "      <td>Recebi o produto conforme o anunciado.</td>\n",
       "      <td>neutro</td>\n",
       "    </tr>\n",
       "    <tr>\n",
       "      <th>4</th>\n",
       "      <td>Como você avalia o produto que recebeu?</td>\n",
       "      <td>Sem problemas, tudo ok.</td>\n",
       "      <td>neutro</td>\n",
       "    </tr>\n",
       "  </tbody>\n",
       "</table>\n",
       "</div>"
      ],
      "text/plain": [
       "                         contexto_pergunta  \\\n",
       "0  Como você avalia o produto que recebeu?   \n",
       "1  Como você avalia o produto que recebeu?   \n",
       "2  Como você avalia o produto que recebeu?   \n",
       "3  Como você avalia o produto que recebeu?   \n",
       "4  Como você avalia o produto que recebeu?   \n",
       "\n",
       "                        conteudo_resposta classificada_como_sentimento  \n",
       "0                 Sem problemas, tudo ok.                       neutro  \n",
       "1    Funciona normalmente, como esperado.                       neutro  \n",
       "2      Parece funcional, mas nada demais.                       neutro  \n",
       "3  Recebi o produto conforme o anunciado.                       neutro  \n",
       "4                 Sem problemas, tudo ok.                       neutro  "
      ]
     },
     "execution_count": 14,
     "metadata": {},
     "output_type": "execute_result"
    }
   ],
   "source": [
    "df_transformado.head(5)"
   ]
  },
  {
   "cell_type": "markdown",
   "id": "1dd40bc2",
   "metadata": {},
   "source": [
    "### Gerando Inserts para o Banco"
   ]
  },
  {
   "cell_type": "code",
   "execution_count": 15,
   "id": "8ab429cc",
   "metadata": {},
   "outputs": [],
   "source": [
    "# 1️⃣ Conexão com SQL Server\n",
    "conn = get_connection_ml()\n",
    "cursor = conn.cursor()\n",
    "\n",
    "# 2️⃣ Montagem das linhas\n",
    "linhas_insert = []\n",
    "\n",
    "for index, row in df_transformado.iterrows():\n",
    "    contexto = str(row['contexto_pergunta']).replace(\"'\", \"''\")\n",
    "    resposta = str(row['conteudo_resposta']).replace(\"'\", \"''\")\n",
    "    sentimento = str(row['classificada_como_sentimento']).replace(\"'\", \"''\")\n",
    "\n",
    "    linha = f\"('{contexto}', '{resposta}', '{sentimento}')\"\n",
    "    linhas_insert.append(linha)\n",
    "\n",
    "# 3️⃣ Quebrar em blocos de até 1000 e executar\n",
    "blocos = [linhas_insert[i:i+1000] for i in range(0, len(linhas_insert), 1000)]\n",
    "\n",
    "for bloco in blocos:\n",
    "    valores_sql = \",\\n\".join(bloco)\n",
    "    comando_full = f\"\"\"INSERT INTO Treinamento_Sentimento (\n",
    "        contexto_pergunta, conteudo_resposta, classificada_como_sentimento\n",
    "    ) VALUES\n",
    "    {valores_sql};\"\"\"\n",
    "\n",
    "    cursor.execute(comando_full)\n",
    "    conn.commit()  # Aplica as inserções no banco\n",
    "\n",
    "# 4️⃣ Encerrar conexão\n",
    "# cursor.close()\n",
    "# conn.close()\n"
   ]
  },
  {
   "cell_type": "code",
   "execution_count": null,
   "id": "7375344d",
   "metadata": {},
   "outputs": [],
   "source": []
  }
 ],
 "metadata": {
  "kernelspec": {
   "display_name": "Python 3 (ipykernel)",
   "language": "python",
   "name": "python3"
  },
  "language_info": {
   "codemirror_mode": {
    "name": "ipython",
    "version": 3
   },
   "file_extension": ".py",
   "mimetype": "text/x-python",
   "name": "python",
   "nbconvert_exporter": "python",
   "pygments_lexer": "ipython3",
   "version": "3.12.4"
  }
 },
 "nbformat": 4,
 "nbformat_minor": 5
}
